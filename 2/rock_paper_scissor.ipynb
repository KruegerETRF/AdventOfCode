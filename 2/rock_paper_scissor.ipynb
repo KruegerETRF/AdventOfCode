{
 "cells": [
  {
   "cell_type": "code",
   "execution_count": 76,
   "metadata": {},
   "outputs": [],
   "source": [
    "import pandas as pd"
   ]
  },
  {
   "cell_type": "code",
   "execution_count": 77,
   "metadata": {},
   "outputs": [],
   "source": [
    "df = pd.read_csv(\"input_strategy_guide.csv\", delim_whitespace= True, header = None, names = [\"opp\", \"me\"])"
   ]
  },
  {
   "cell_type": "code",
   "execution_count": 78,
   "metadata": {},
   "outputs": [
    {
     "data": {
      "text/html": [
       "<div>\n",
       "<style scoped>\n",
       "    .dataframe tbody tr th:only-of-type {\n",
       "        vertical-align: middle;\n",
       "    }\n",
       "\n",
       "    .dataframe tbody tr th {\n",
       "        vertical-align: top;\n",
       "    }\n",
       "\n",
       "    .dataframe thead th {\n",
       "        text-align: right;\n",
       "    }\n",
       "</style>\n",
       "<table border=\"1\" class=\"dataframe\">\n",
       "  <thead>\n",
       "    <tr style=\"text-align: right;\">\n",
       "      <th></th>\n",
       "      <th>opp</th>\n",
       "      <th>me</th>\n",
       "    </tr>\n",
       "  </thead>\n",
       "  <tbody>\n",
       "    <tr>\n",
       "      <th>0</th>\n",
       "      <td>B</td>\n",
       "      <td>Y</td>\n",
       "    </tr>\n",
       "    <tr>\n",
       "      <th>1</th>\n",
       "      <td>A</td>\n",
       "      <td>Z</td>\n",
       "    </tr>\n",
       "    <tr>\n",
       "      <th>2</th>\n",
       "      <td>C</td>\n",
       "      <td>Z</td>\n",
       "    </tr>\n",
       "    <tr>\n",
       "      <th>3</th>\n",
       "      <td>A</td>\n",
       "      <td>Y</td>\n",
       "    </tr>\n",
       "    <tr>\n",
       "      <th>4</th>\n",
       "      <td>A</td>\n",
       "      <td>Y</td>\n",
       "    </tr>\n",
       "    <tr>\n",
       "      <th>...</th>\n",
       "      <td>...</td>\n",
       "      <td>...</td>\n",
       "    </tr>\n",
       "    <tr>\n",
       "      <th>2495</th>\n",
       "      <td>B</td>\n",
       "      <td>X</td>\n",
       "    </tr>\n",
       "    <tr>\n",
       "      <th>2496</th>\n",
       "      <td>B</td>\n",
       "      <td>Y</td>\n",
       "    </tr>\n",
       "    <tr>\n",
       "      <th>2497</th>\n",
       "      <td>A</td>\n",
       "      <td>Y</td>\n",
       "    </tr>\n",
       "    <tr>\n",
       "      <th>2498</th>\n",
       "      <td>B</td>\n",
       "      <td>X</td>\n",
       "    </tr>\n",
       "    <tr>\n",
       "      <th>2499</th>\n",
       "      <td>B</td>\n",
       "      <td>Y</td>\n",
       "    </tr>\n",
       "  </tbody>\n",
       "</table>\n",
       "<p>2500 rows × 2 columns</p>\n",
       "</div>"
      ],
      "text/plain": [
       "     opp me\n",
       "0      B  Y\n",
       "1      A  Z\n",
       "2      C  Z\n",
       "3      A  Y\n",
       "4      A  Y\n",
       "...   .. ..\n",
       "2495   B  X\n",
       "2496   B  Y\n",
       "2497   A  Y\n",
       "2498   B  X\n",
       "2499   B  Y\n",
       "\n",
       "[2500 rows x 2 columns]"
      ]
     },
     "execution_count": 78,
     "metadata": {},
     "output_type": "execute_result"
    }
   ],
   "source": [
    "df"
   ]
  },
  {
   "cell_type": "code",
   "execution_count": 86,
   "metadata": {},
   "outputs": [],
   "source": [
    "class ShapeError(Exception):\n",
    "    def __init__(self, shape):\n",
    "        self.message = f\"An Error occured when trying to parse '{shape}'. Shape must be in ('A', 'B', 'C', 'X', 'Y', 'Z')\"\n",
    "    \n",
    "    def __str__(self):\n",
    "        return self.message\n",
    "\n",
    "class Shape:\n",
    "    def __init__(self, shape):\n",
    "        self.shape = Shape.get_shape(shape)\n",
    "\n",
    "    \n",
    "    def get_shape(shape):\n",
    "        if shape in (\"A\", \"X\"):\n",
    "            return Rock()\n",
    "        if shape in (\"B\", \"Y\"):\n",
    "            return Paper()\n",
    "        if shape in (\"C\", \"Z\"):\n",
    "            return Scissors()\n",
    "        \n",
    "        else:\n",
    "            raise ShapeError(shape)\n",
    "\n",
    "\n",
    "class Rock(Shape):\n",
    "    def __init__(self):\n",
    "        self.points = 1\n",
    "\n",
    "class Scissors(Shape):\n",
    "    def __init__(self):\n",
    "        self.points = 3\n",
    "\n",
    "class Paper(Shape):\n",
    "    def __init__(self):\n",
    "        self.points = 2\n",
    "\n",
    "\n",
    "class Result():\n",
    "    pass\n",
    "\n",
    "class Win:\n",
    "    def __init__(self):\n",
    "        self.points = 6\n",
    "\n",
    "class Draw:\n",
    "    def __init__(self):\n",
    "        self.points = 3\n",
    "\n",
    "class Loose:\n",
    "    def __init__(self):\n",
    "        self.points = 0\n",
    "\n",
    "\n",
    "\n",
    "class RPS_Game:\n",
    "    def __init__(self, opp_sel, my_sel):\n",
    "        self.opp_sel = Shape(opp_sel)\n",
    "        self.my_sel = Shape(my_sel)\n",
    "        self.result = RPS_Game.calculate_result(self)\n",
    "    \n",
    "\n",
    "    def calculate_result(self):\n",
    "        if type(self.opp_sel.shape) == type(self.my_sel.shape):\n",
    "            return(Draw())\n",
    "\n",
    "        elif type(self.my_sel.shape) == Rock and type(self.opp_sel.shape) == Scissors:\n",
    "            return (Win())\n",
    "\n",
    "        elif type(self.my_sel.shape) == Scissors and type(self.opp_sel.shape) == Paper:\n",
    "            return (Win())\n",
    "\n",
    "        elif type(self.my_sel.shape) == Paper and type(self.opp_sel.shape) == Rock:\n",
    "            return (Win())\n",
    "        \n",
    "        else:\n",
    "            return(Loose())\n",
    "    \n",
    "\n",
    "    def calculate_points(self):\n",
    "        return(self.my_sel.shape.points + self.result.points)\n",
    "\n",
    "\n",
    "\n",
    "\n",
    "\n",
    "    \n",
    "\n"
   ]
  },
  {
   "cell_type": "code",
   "execution_count": 87,
   "metadata": {},
   "outputs": [],
   "source": [
    "total_score = 0\n",
    "\n",
    "for index, row in df.iterrows():\n",
    "    total_score += RPS_Game(row[\"opp\"], row[\"me\"]).calculate_points()"
   ]
  },
  {
   "cell_type": "code",
   "execution_count": 88,
   "metadata": {},
   "outputs": [
    {
     "data": {
      "text/plain": [
       "10404"
      ]
     },
     "execution_count": 88,
     "metadata": {},
     "output_type": "execute_result"
    }
   ],
   "source": [
    "total_score"
   ]
  },
  {
   "cell_type": "code",
   "execution_count": null,
   "metadata": {},
   "outputs": [],
   "source": []
  }
 ],
 "metadata": {
  "kernelspec": {
   "display_name": "Python 3.8.2 64-bit",
   "language": "python",
   "name": "python3"
  },
  "language_info": {
   "codemirror_mode": {
    "name": "ipython",
    "version": 3
   },
   "file_extension": ".py",
   "mimetype": "text/x-python",
   "name": "python",
   "nbconvert_exporter": "python",
   "pygments_lexer": "ipython3",
   "version": "3.8.2"
  },
  "orig_nbformat": 4,
  "vscode": {
   "interpreter": {
    "hash": "9650cb4e16cdd4a8e8e2d128bf38d875813998db22a3c986335f89e0cb4d7bb2"
   }
  }
 },
 "nbformat": 4,
 "nbformat_minor": 2
}
